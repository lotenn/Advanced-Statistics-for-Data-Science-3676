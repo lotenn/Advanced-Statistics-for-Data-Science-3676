{
 "cells": [
  {
   "attachments": {},
   "cell_type": "markdown",
   "id": "eb610ec7",
   "metadata": {},
   "source": [
    "#### Advanced Statistics for Data Science (Spring 2022)\n",
    "# Home Assignment 3\n",
    "#### Topics:\n",
    "- Statistical Estimation\n",
    "- Hypothesis Testing in one and two samples\n",
    "- ANOVA\n",
    "\n",
    "#### Due: 23/05/2023 by 18:30\n",
    "\n",
    "#### Instructions:\n",
    "- Write your name, Student ID, and date in the cell below. \n",
    "- Submit a copy of this notebook with code filled in the relevant places as the solution of coding excercises.\n",
    "- For theoretic excercises, you can either write your solution in the notebook using $\\LaTeX$ or submit additional notes.\n",
    "\n",
    "<hr>\n",
    "<hr>"
   ]
  },
  {
   "attachments": {},
   "cell_type": "markdown",
   "id": "87cf7a3b",
   "metadata": {},
   "source": [
    "\n",
    "**Name**: \n",
    "\n",
    "**Student ID**:\n",
    "\n",
    "**Date**:\n",
    "\n",
    "$\n",
    "\\newcommand{\\Id}{{\\mathbf{I}}}  \n",
    "\\newcommand{\\SSE}{\\mathsf{SSE}}\n",
    "\\newcommand{\\SSR}{\\mathsf{SSR}}\n",
    "\\newcommand{\\MSE}{\\mathsf{MSE}}\n",
    "\\newcommand{\\simiid}{\\overset{iid}{\\sim}}\n",
    "\\newcommand{\\ex}{\\mathbb E}\n",
    "\\newcommand{\\var}{\\mathrm{Var}}\n",
    "\\newcommand{\\Cov}[2]{{\\mathrm{Cov}  \\left(#1, #2 \\right)}}\n",
    "\\newcommand{\\one}[1]{\\mathbf 1 {\\left\\{#1\\right\\}}}\n",
    "\\newcommand{\\SE}[1]{\\mathrm{SE} \\left[#1\\right]}\n",
    "\\newcommand{\\reals}{\\mathbb R}\n",
    "\\newcommand{\\Ncal}{\\mathcal N}\n",
    "\\newcommand{\\abs}[1]{\\ensuremath{\\left\\vert#1\\right\\vert}}\n",
    "\\newcommand{\\rank}{\\operatorname{rank}}\n",
    "\\newcommand{\\tr}{\\operatorname{Tr}}\n",
    "\\newcommand{\\diag}{\\operatorname{diag}}\n",
    "\\newcommand{\\sign}{\\operatorname{sign}}\n",
    "$\n"
   ]
  },
  {
   "attachments": {},
   "cell_type": "markdown",
   "id": "7b1008d9",
   "metadata": {},
   "source": [
    "<hr>\n",
    "<hr>"
   ]
  },
  {
   "attachments": {},
   "cell_type": "markdown",
   "id": "e8882cc3",
   "metadata": {},
   "source": [
    "## Problem 1 (Correlated Data)\n",
    "\n",
    "Suppose that $Y_1,\\ldots,Y_n$ has each mean $\\mu$ and variance $\\sigma^2$, but \n",
    "$$\n",
    "\\rho_{ij} := \\mathrm{Corr}(Y_i,Y_j) = \\begin{cases}\n",
    "1 & i=j \\\\\n",
    "\\rho & |i-j| = 1 \\\\\n",
    "0 & |i-j| > 1\n",
    "\\end{cases}.\n",
    "$$\n",
    "This situation arise when an observation $i$ may depend to some extent on only the previous observation’s white noise: an one-lag \"holdeover effect\". This is also known as the \"lag-1 moving average\" model (MA(1)). \n",
    "\n",
    "1. Show that:\n",
    "  - $$\\mathrm{Var}(\\bar{Y}) = \\frac{\\sigma^2}{n}(1+ 2\\rho \\frac{n-1}{n})$$\n",
    "Namely, positive correlation increases varaince. Hint: use that $\\mathrm{Var}(U+V) = \\mathrm{Var}(U) + \\mathrm{Var}(V) + 2 \\mathrm{Cov}(U,V)$ and induction or recursive computation over $n$. Another option is to write $Y = \\Sigma^{1/2}Z$ where $Z\\sim \\Ncal(0,I)$ and $\\Sigma^{1/2}$ is symmetric with  $\\Sigma^{1/2}\\Sigma^{1/2} = \\Sigma$ has the desired covariance stracture.  \n",
    "\n",
    "  - $$\\qquad \\ex[{s^2}] = \\sigma^2(1 - 2\\rho/n)$$\n",
    "  where $s^2$ is the standard varince estiamte. \n",
    "Namely, with positive correlation the \"variety\" in the data is smaller. \n",
    "\n",
    "  - **(Bonus)** The t-statistic statisfies\n",
    "$$\n",
    "t = \\sqrt{n} \\frac{\\bar{Y}-\\mu}{s} \\to \\Ncal(0,1 + 2 \\rho),\\quad n \\to \\infty\n",
    "$$\n",
    "Hint: you may use the following version of Slutsky's Theorem: for two sequences of RV $U_n$ and $V_n$, if $U_n \\overset{D}{\\to} U$ and $V_n \\overset{p}{\\to} c$ (constant), then $V_n U_n \\overset{D}{\\to} cU$\n",
    "2. Verify your answer to the first two items in 1 using simulations. Use `nMonte = 10000` problem instances. In each instance, use a sample size of `n = 10` with $\\sigma=1$ and $\\rho \\in \\{\\pm 0.1, \\pm 0.3, \\pm0.5\\}$. The function `genrate_correlated_data` below generates noramlly distributed data satisfying the correlation model above. \n",
    "\n",
    "3. Suppose $\\rho>0$\n",
    " - Derive a $1-\\alpha$ confidence interval based on $s$ and the $t$-distribution with $n-1$ DoF. Does your interval \n",
    " contain the value of $\\mu$ more or less often than $1-\\alpha$? Verify using a simulation with `nMonte = 10000` problem instances of sampes size `n=100`. Also use $\\alpha=0.05$, $\\rho=.25$, $\\sigma =1$, and $\\mu_0=2$. \n",
    " \n",
    " - Suppose that we reject $H_0\\,:\\,\\mu = \\mu_0$ whenever $|t|$ exceeds the critical value $t_{n-1}^{1-\\alpha/2}$. Would our P-value be too small or too large? Would we reject more or less often then $\\alpha$ if the null $\\mu = \\mu_0$ is true? Verify using a simulation with `nMonte = 10000` problem instances of sampes size `n=100`. Also use $\\alpha=0.05$, $\\rho=.25$, $\\sigma =1$, and $\\mu_0=2$. \n",
    " \n",
    " - Would your answer to the preivous two items change if $\\rho < 0$? how?\n",
    "\n",
    "The point: correlation in our data is bad because it makes us make wrong descisions. The effect of correlation is much worst than non-nomrality since the latter diminishes with $n$ due to the CLT. \n"
   ]
  },
  {
   "cell_type": "code",
   "execution_count": 19,
   "id": "57077599",
   "metadata": {},
   "outputs": [],
   "source": [
    "import numpy as np\n",
    "def genrate_correlated_data(n: int, rho: float, mu: float, sigma: float) -> np.ndarray:\n",
    "    \"\"\"\n",
    "    Generate samples from the model:\n",
    "    Yi ~ N(mu, sigma^2) and Corr(Yi,Yj) = ( i == j ) + rho * ( abs( i - j ) == 1 )\n",
    "    \n",
    "    Args:\n",
    "    -----\n",
    "    :n:     sample size\n",
    "    :rho:   desired one lag correlation between samples\n",
    "    :mu:    mean\n",
    "    :sigma: standard deviation\n",
    "    \n",
    "    \"\"\"\n",
    "    assert sigma > 0\n",
    "    \n",
    "    # build desired covariance matrix\n",
    "    Sig = np.zeros((n,n))\n",
    "    np.fill_diagonal(Sig, 1)\n",
    "    rho = np.tile(rho, n-1)\n",
    "    Sig = Sig + np.diag(rho, 1) + np.diag(rho, -1)\n",
    "\n",
    "    # get matrix square root of covariance matrix:\n",
    "    Sig_sqrt = np.linalg.cholesky(sigma**2 * Sig)\n",
    "    \n",
    "    # sample from the standard normal dist. and transform \n",
    "    # so that the result is a normal vector with the desired \n",
    "    # covaraince structure\n",
    "    return mu + Sig_sqrt @ np.random.randn(n)\n"
   ]
  },
  {
   "cell_type": "code",
   "execution_count": 20,
   "id": "3ea7c447",
   "metadata": {},
   "outputs": [],
   "source": [
    "import numpy as np\n",
    "\n",
    "nMonte = 10000\n",
    "n = 10\n",
    "mu = 0.0\n",
    "sigma = 1\n",
    "rho_options = np.array([0.5, 0.3, 0.1])\n",
    "rho_options = np.concatenate((rho_options, -1 * rho_options))\n",
    "\n",
    "rhos = np.zeros(nMonte)\n",
    "\n",
    "X = np.zeros((nMonte,n))\n",
    "for i in range(nMonte):\n",
    "    rho = np.random.choice(rho_options)\n",
    "    rhos[i] = rho\n",
    "    X[i,:] = genrate_correlated_data(n, rho, mu, sigma)"
   ]
  },
  {
   "attachments": {},
   "cell_type": "markdown",
   "id": "598f7a2f",
   "metadata": {},
   "source": [
    "$$\\mathrm{Var}(\\bar{Y}) = \\frac{\\sigma^2}{n}(1+ 2\\rho \\frac{n-1}{n})$$"
   ]
  },
  {
   "cell_type": "code",
   "execution_count": 21,
   "id": "55854ada",
   "metadata": {},
   "outputs": [],
   "source": [
    "for rho in rho_options:\n",
    "    samples = X[rhos == rho,:]\n",
    "    y_bar = np.mean(samples, axis=1)\n",
    "    var_y_bar = np.var(y_bar)\n",
    "    expected = ((sigma**2) / n) * (1 + 2 * rho * (n-1)/n)\n",
    "    \n",
    "    assert np.isclose(expected, var_y_bar, atol=0.05)"
   ]
  },
  {
   "attachments": {},
   "cell_type": "markdown",
   "id": "e899db7e",
   "metadata": {},
   "source": [
    "$$\\qquad \\ex[{s^2}] = \\sigma^2(1 - 2\\rho/n)$$"
   ]
  },
  {
   "cell_type": "code",
   "execution_count": 22,
   "id": "17282535",
   "metadata": {},
   "outputs": [],
   "source": [
    "for rho in rho_options:\n",
    "    samples = X[rhos == rho, :]\n",
    "    s2 = np.var(samples, ddof = 1, axis=1)\n",
    "    \n",
    "    actual = np.mean(s2)\n",
    "    expected = (sigma**2) * (1 - 2 * rho / n)\n",
    "\n",
    "    assert np.isclose(expected, actual, atol=0.05)"
   ]
  },
  {
   "attachments": {},
   "cell_type": "markdown",
   "id": "da37244f",
   "metadata": {},
   "source": [
    "### 3."
   ]
  },
  {
   "cell_type": "code",
   "execution_count": 28,
   "id": "47e59d0c",
   "metadata": {},
   "outputs": [],
   "source": [
    "nMonte = 10000\n",
    "n = 100\n",
    "mu = 2.0\n",
    "sigma = 1\n",
    "rho = 0.5\n",
    "alpha = 0.05\n",
    "\n",
    "Y = np.zeros((nMonte,n))\n",
    "for i in range(nMonte):\n",
    "    Y[i,:] = genrate_correlated_data(n, rho, mu, sigma)"
   ]
  },
  {
   "cell_type": "code",
   "execution_count": 29,
   "id": "94016a78",
   "metadata": {},
   "outputs": [],
   "source": [
    "from scipy.stats import t\n",
    "\n",
    "y_bar = np.mean(Y, axis=1)\n",
    "s = np.std(Y, ddof=1, axis=1)\n",
    "t_alpha_bar = t.ppf(1-alpha/2, n-1)\n",
    "\n",
    "l = y_bar - (s/np.sqrt(n)) * t_alpha_bar\n",
    "u = y_bar + (s/np.sqrt(n)) * t_alpha_bar"
   ]
  },
  {
   "cell_type": "code",
   "execution_count": 30,
   "id": "0e631822",
   "metadata": {},
   "outputs": [
    {
     "name": "stdout",
     "output_type": "stream",
     "text": [
      "Fraction of successful coverage: 0.8329\n"
     ]
    }
   ],
   "source": [
    "covered_ratio = np.array((l <= mu) & (mu <= u))\n",
    "print(f\"Fraction of successful coverage: {covered_ratio.mean()}\")"
   ]
  },
  {
   "attachments": {},
   "cell_type": "markdown",
   "id": "f2333100",
   "metadata": {},
   "source": [
    "## Problem 2 ($t$-test is a kind of ANOVA)\n",
    "Consider the following two-sample problem. The data is\n",
    "$$\n",
    "y_{ij} = \\mu_i + \\epsilon_{ij},\\qquad j=1,\\ldots,n_i,\\quad i=0,1. \n",
    "$$\n",
    "\n",
    "1. Find the statistic $t$ for the two-sample $t$ test (using of the observable varaibles)\n",
    "2. Write the ANOVA table for $k=2$ and find the F statistic $F$ (using of the observable varaibles)\n",
    "3. Conclude that $t^2 = F$. \n",
    "4. Does the test that rejects when $|t| > t_{n-1}^{1-\\alpha/2}$ has larger power than the test that rejects when $F > F_{1,n-1}^{1-\\alpha}$ ? less? same? \n"
   ]
  },
  {
   "attachments": {},
   "cell_type": "markdown",
   "id": "7c3a36e1",
   "metadata": {},
   "source": [
    "## Problem 3 (ANOVA Decomposition)\n",
    "In class, we considered the decomposition:\n",
    "$$\n",
    "\\begin{equation}\n",
    "\\mathrm{SS}_{tot} = \\mathrm{SS}_{within} + \\mathrm{SS}_{between}\n",
    "\\label{eq:ANOVA} \\tag{1}\n",
    "\\end{equation}\n",
    "$$\n",
    "where\n",
    "$$\n",
    "\\mathrm{SS}_{between} = \\sum_{i=1}^k n_i(\\bar{y}_{i\\cdot} - \\bar{y}_{\\cdot \\cdot})^2,\\qquad \\mathrm{SS}_{within} = \\sum_{i=1}^k \\sum_{j=1}^{n_i} (y_{ij} - \\bar{y}_{i\\cdot})^2\n",
    "$$\n",
    "Prove $\\eqref{eq:ANOVA}$ by expanding:\n",
    "$$\n",
    "\\mathrm{SS}_{tot} = \\sum_{i=1}^k \\sum_{j=1}^{n_i} (y_{ij} - \\bar{y}_{\\cdot \\cdot})^2 = \\sum_{i=1}^k \\sum_{j=1}^{n_i} (y_{ij} - \\bar{y}_{i\\cdot} + \\bar{y}_{i\\cdot} - \\bar{y}_{\\cdot \\cdot})^2 = ...\n",
    "$$"
   ]
  },
  {
   "attachments": {},
   "cell_type": "markdown",
   "id": "dd219c7b",
   "metadata": {},
   "source": [
    "## Problem 4 (ANOVA in practice)\n",
    "Consider Israeli wines in the wine dataset ``winemag-data_first150k.csv`` used in class (downloaded from Kaggle https://www.kaggle.com/datasets/zynicide/wine-reviews?select=winemag-data_first150k.csv). Use ANOVA to measure the effect of winary (``winary``) and price (``price``) on the quality (``points``) of wine of veriaty ``Cabernet Sauvignon``. \n",
    "1. Load dataset; replace the word ``Gamla`` with ``Golan Height Winary`` because this is the correct name of the winary; keep only relevant records according to the fields ``country`` and ``veriaty``; if you find any duplicated records in the data, remove those that are redundant. Also, we only include winaries with at least 3 samples. You can achieve the above by the code at the next cell. "
   ]
  },
  {
   "cell_type": "code",
   "execution_count": 121,
   "id": "db60db3b",
   "metadata": {},
   "outputs": [],
   "source": [
    "import pandas as pd\n",
    "wine_df = pd.read_csv(\"data/winemag-data_first150k.csv\")\n",
    "variety = 'Cabernet Sauvignon'\n",
    "min_per_group = 3\n",
    "israeli_wines = wine_df[(wine_df.country == 'Israel') & (wine_df.variety == variety)]\\\n",
    "                .filter(['country', 'description','designation', 'points',\n",
    "                         'price','region_1', 'region_2', 'variety', 'winery'])\\\n",
    "                .replace('Gamla', 'Golan Heights Winery')\\\n",
    "                .drop_duplicates(keep='first')\\\n",
    "                .groupby('winery')\\\n",
    "                .filter(lambda x : len(x) >= min_per_group)"
   ]
  },
  {
   "attachments": {},
   "cell_type": "markdown",
   "id": "b124d0b7",
   "metadata": {},
   "source": [
    "2. Plot the boxplot with ``winary`` as the x-axis and ``points`` as the y-axis.\n",
    "3. Use ANOVA to figure out whether some winaries make better cabernets than others; print the ANOVA table and explain your conclusion.\n",
    "\n",
    "4. Find which wineries have cabernets ranked higher than others:\n",
    " - Run all t-tests of pairs of winaries; how many of the test's P-values fall below 0.05? is it more than what is expceted if all tests are null?\n",
    " - Use Bonferroni's method to decide which winaries ranked singnificantly higher than others by reporting on the list of pairs whose P-value is significant after Bonferroni's correction. Also indicate which one is ranked higher out of each pair."
   ]
  },
  {
   "attachments": {},
   "cell_type": "markdown",
   "id": "d88398b5",
   "metadata": {},
   "source": [
    "#### 2."
   ]
  },
  {
   "cell_type": "code",
   "execution_count": 122,
   "id": "e3726af7",
   "metadata": {},
   "outputs": [
    {
     "data": {
      "image/png": "[encoded data removed]",
      "text/plain": [
       "<Figure size 1000x600 with 1 Axes>"
      ]
     },
     "metadata": {},
     "output_type": "display_data"
    }
   ],
   "source": [
    "import seaborn as sns\n",
    "import matplotlib.pyplot as plt\n",
    "\n",
    "_, ax = plt.subplots(figsize=(10, 6))\n",
    "sns.boxplot(x='winery', y='points', data=israeli_wines, ax=ax)\n",
    "ax.set_xticklabels(ax.get_xticklabels(), rotation=90)\n",
    "ax.set(title='winery points boxplot distribution');"
   ]
  },
  {
   "attachments": {},
   "cell_type": "markdown",
   "id": "4a19a8c5",
   "metadata": {},
   "source": [
    "#### 3."
   ]
  },
  {
   "cell_type": "code",
   "execution_count": 123,
   "id": "5f381f80",
   "metadata": {},
   "outputs": [
    {
     "data": {
      "text/html": [
       "<div>\n",
       "<style scoped>\n",
       "    .dataframe tbody tr th:only-of-type {\n",
       "        vertical-align: middle;\n",
       "    }\n",
       "\n",
       "    .dataframe tbody tr th {\n",
       "        vertical-align: top;\n",
       "    }\n",
       "\n",
       "    .dataframe thead th {\n",
       "        text-align: right;\n",
       "    }\n",
       "</style>\n",
       "<table border=\"1\" class=\"dataframe\">\n",
       "  <thead>\n",
       "    <tr style=\"text-align: right;\">\n",
       "      <th></th>\n",
       "      <th>country</th>\n",
       "      <th>description</th>\n",
       "      <th>designation</th>\n",
       "      <th>points</th>\n",
       "      <th>price</th>\n",
       "      <th>region_1</th>\n",
       "      <th>region_2</th>\n",
       "      <th>variety</th>\n",
       "      <th>winery</th>\n",
       "    </tr>\n",
       "  </thead>\n",
       "  <tbody>\n",
       "    <tr>\n",
       "      <th>81</th>\n",
       "      <td>Israel</td>\n",
       "      <td>Dark red violet in color, this wine has aromas...</td>\n",
       "      <td>Reserve</td>\n",
       "      <td>91</td>\n",
       "      <td>25.0</td>\n",
       "      <td>NaN</td>\n",
       "      <td>NaN</td>\n",
       "      <td>Cabernet Sauvignon</td>\n",
       "      <td>Binyamina</td>\n",
       "    </tr>\n",
       "    <tr>\n",
       "      <th>355</th>\n",
       "      <td>Israel</td>\n",
       "      <td>Restrained aromas of black plum barely set the...</td>\n",
       "      <td>NaN</td>\n",
       "      <td>91</td>\n",
       "      <td>40.0</td>\n",
       "      <td>NaN</td>\n",
       "      <td>NaN</td>\n",
       "      <td>Cabernet Sauvignon</td>\n",
       "      <td>Bazelet HaGolan</td>\n",
       "    </tr>\n",
       "    <tr>\n",
       "      <th>966</th>\n",
       "      <td>Israel</td>\n",
       "      <td>This wine is dark red-violet color to the eye,...</td>\n",
       "      <td>Special Reserve</td>\n",
       "      <td>90</td>\n",
       "      <td>20.0</td>\n",
       "      <td>NaN</td>\n",
       "      <td>NaN</td>\n",
       "      <td>Cabernet Sauvignon</td>\n",
       "      <td>Segal's</td>\n",
       "    </tr>\n",
       "    <tr>\n",
       "      <th>970</th>\n",
       "      <td>Israel</td>\n",
       "      <td>Dark garnet in the glass, this wine has a nose...</td>\n",
       "      <td>Mt. Tabor</td>\n",
       "      <td>90</td>\n",
       "      <td>15.0</td>\n",
       "      <td>NaN</td>\n",
       "      <td>NaN</td>\n",
       "      <td>Cabernet Sauvignon</td>\n",
       "      <td>Tabor</td>\n",
       "    </tr>\n",
       "    <tr>\n",
       "      <th>977</th>\n",
       "      <td>Israel</td>\n",
       "      <td>Dark black cherry in color, this wine offers a...</td>\n",
       "      <td>NaN</td>\n",
       "      <td>90</td>\n",
       "      <td>55.0</td>\n",
       "      <td>NaN</td>\n",
       "      <td>NaN</td>\n",
       "      <td>Cabernet Sauvignon</td>\n",
       "      <td>Yatir</td>\n",
       "    </tr>\n",
       "  </tbody>\n",
       "</table>\n",
       "</div>"
      ],
      "text/plain": [
       "    country                                        description   \n",
       "81   Israel  Dark red violet in color, this wine has aromas...  \\\n",
       "355  Israel  Restrained aromas of black plum barely set the...   \n",
       "966  Israel  This wine is dark red-violet color to the eye,...   \n",
       "970  Israel  Dark garnet in the glass, this wine has a nose...   \n",
       "977  Israel  Dark black cherry in color, this wine offers a...   \n",
       "\n",
       "         designation  points  price  region_1  region_2             variety   \n",
       "81           Reserve      91   25.0       NaN       NaN  Cabernet Sauvignon  \\\n",
       "355              NaN      91   40.0       NaN       NaN  Cabernet Sauvignon   \n",
       "966  Special Reserve      90   20.0       NaN       NaN  Cabernet Sauvignon   \n",
       "970        Mt. Tabor      90   15.0       NaN       NaN  Cabernet Sauvignon   \n",
       "977              NaN      90   55.0       NaN       NaN  Cabernet Sauvignon   \n",
       "\n",
       "              winery  \n",
       "81         Binyamina  \n",
       "355  Bazelet HaGolan  \n",
       "966          Segal's  \n",
       "970            Tabor  \n",
       "977            Yatir  "
      ]
     },
     "execution_count": 123,
     "metadata": {},
     "output_type": "execute_result"
    }
   ],
   "source": [
    "cabarne_df = israeli_wines[israeli_wines.variety == 'Cabernet Sauvignon']\n",
    "cabarne_df.head()"
   ]
  },
  {
   "cell_type": "code",
   "execution_count": 124,
   "id": "29d0a4d5",
   "metadata": {},
   "outputs": [
    {
     "data": {
      "text/html": [
       "<div>\n",
       "<style scoped>\n",
       "    .dataframe tbody tr th:only-of-type {\n",
       "        vertical-align: middle;\n",
       "    }\n",
       "\n",
       "    .dataframe tbody tr th {\n",
       "        vertical-align: top;\n",
       "    }\n",
       "\n",
       "    .dataframe thead th {\n",
       "        text-align: right;\n",
       "    }\n",
       "</style>\n",
       "<table border=\"1\" class=\"dataframe\">\n",
       "  <thead>\n",
       "    <tr style=\"text-align: right;\">\n",
       "      <th></th>\n",
       "      <th>sum_sq</th>\n",
       "      <th>df</th>\n",
       "      <th>F</th>\n",
       "      <th>PR(&gt;F)</th>\n",
       "    </tr>\n",
       "  </thead>\n",
       "  <tbody>\n",
       "    <tr>\n",
       "      <th>winery</th>\n",
       "      <td>83.235762</td>\n",
       "      <td>13.0</td>\n",
       "      <td>1.33827</td>\n",
       "      <td>0.21891</td>\n",
       "    </tr>\n",
       "    <tr>\n",
       "      <th>Residual</th>\n",
       "      <td>272.707900</td>\n",
       "      <td>57.0</td>\n",
       "      <td>NaN</td>\n",
       "      <td>NaN</td>\n",
       "    </tr>\n",
       "  </tbody>\n",
       "</table>\n",
       "</div>"
      ],
      "text/plain": [
       "              sum_sq    df        F   PR(>F)\n",
       "winery     83.235762  13.0  1.33827  0.21891\n",
       "Residual  272.707900  57.0      NaN      NaN"
      ]
     },
     "execution_count": 124,
     "metadata": {},
     "output_type": "execute_result"
    }
   ],
   "source": [
    "import statsmodels.api as sm\n",
    "from statsmodels.formula.api import ols\n",
    "\n",
    "# ANOVA Test\n",
    "model = ols('points ~ winery', data=cabarne_df).fit()\n",
    "anova = sm.stats.anova_lm(model, typ=2)\n",
    "anova"
   ]
  },
  {
   "attachments": {},
   "cell_type": "markdown",
   "id": "a5252bb1",
   "metadata": {},
   "source": [
    "**$H_0:$ all wineries create similar quality Cabarnet**"
   ]
  },
  {
   "attachments": {},
   "cell_type": "markdown",
   "id": "74896a63",
   "metadata": {},
   "source": [
    "It looks like the wineries themselves might have an effect on the quality of the wine, thought it is not VERY significant statistically (wouldn't reject $H_0$ for a $0.05$ threshold)"
   ]
  },
  {
   "attachments": {},
   "cell_type": "markdown",
   "id": "bd8220ab",
   "metadata": {},
   "source": [
    "#### 4. "
   ]
  },
  {
   "cell_type": "code",
   "execution_count": 125,
   "id": "f5091bf6",
   "metadata": {},
   "outputs": [
    {
     "name": "stderr",
     "output_type": "stream",
     "text": [
      "/var/folders/v6/y2jqltnd6zn79p_4psg6xb780000gp/T/ipykernel_48193/811871077.py:11: RuntimeWarning: Precision loss occurred in moment calculation due to catastrophic cancellation. This occurs when the data are nearly identical. Results may be unreliable.\n",
      "  tests_res[(winery_1, winery_2)] = ttest_ind(Y1, Y2).pvalue\n"
     ]
    }
   ],
   "source": [
    "import itertools\n",
    "from math import comb\n",
    "from scipy.stats import ttest_ind\n",
    "\n",
    "wineries = cabarne_df.winery.unique()\n",
    "\n",
    "tests_res = {}\n",
    "for winery_1, winery_2 in itertools.combinations(wineries, 2):\n",
    "    Y1 = cabarne_df[cabarne_df.winery == winery_1].points\n",
    "    Y2 = cabarne_df[cabarne_df.winery == winery_2].points\n",
    "    tests_res[(winery_1, winery_2)] = ttest_ind(Y1, Y2).pvalue"
   ]
  },
  {
   "cell_type": "code",
   "execution_count": 128,
   "id": "da9fee5d",
   "metadata": {},
   "outputs": [
    {
     "name": "stdout",
     "output_type": "stream",
     "text": [
      "Number of pairs with p-value < 0.05: 4, ratio of 0.044\n"
     ]
    }
   ],
   "source": [
    "results_df = pd.DataFrame(tests_res, index=['p-value']).T.sort_values('p-value')\n",
    "above_05 = results_df.where(results_df['p-value'] < 0.05).count()[0]\n",
    "\n",
    "print(f\"Number of pairs with p-value < 0.05: {above_05}, ratio of {above_05/len(results_df):.3f}\")"
   ]
  },
  {
   "attachments": {},
   "cell_type": "markdown",
   "id": "e76e3340",
   "metadata": {},
   "source": [
    "We would expect some tests to reject $H_0$ since  under the null hypthesis we have about 4% of the tests falsely rejecting the null hypothesis, and the ANOVA test showed us a larger 21% chance of siginficant diffrenece between the winery groups under the null hypothesis"
   ]
  },
  {
   "cell_type": "code",
   "execution_count": 114,
   "id": "1695cce4",
   "metadata": {},
   "outputs": [
    {
     "data": {
      "image/png": "[encoded data removed]",
      "text/plain": [
       "<Figure size 640x480 with 1 Axes>"
      ]
     },
     "metadata": {},
     "output_type": "display_data"
    },
    {
     "name": "stdout",
     "output_type": "stream",
     "text": [
      "Discovered by Bonferroni:\n"
     ]
    },
    {
     "data": {
      "text/plain": [
       "[]"
      ]
     },
     "execution_count": 114,
     "metadata": {},
     "output_type": "execute_result"
    }
   ],
   "source": [
    "pv = results_df['p-value'].values.tolist()\n",
    "m = len(pv)\n",
    "idcs = np.argsort(pv)\n",
    "sorted_pvals = np.array(pv)[idcs]\n",
    "\n",
    "plt.scatter(np.arange(1,len(pv)+1), sorted_pvals)\n",
    "\n",
    "# Discoveries by Bonferroni's:\n",
    "alpha = 0.05\n",
    "plt.plot([1, m], [alpha / m, alpha / m], '--r')\n",
    "plt.plot([1, m], [alpha, alpha], '--g')\n",
    "plt.ylabel('p-value')\n",
    "plt.xlabel('test #')\n",
    "plt.savefig(\"Bonf.png\")\n",
    "plt.show()\n",
    "\n",
    "# Discoveries by BH:\n",
    "rejected = sorted_pvals * len(sorted_pvals) < .05\n",
    "\n",
    "print(\"Discovered by Bonferroni:\")\n",
    "[list(tests_res.keys())[i] for i in idcs[rejected]]"
   ]
  },
  {
   "attachments": {},
   "cell_type": "markdown",
   "id": "a73adfa3",
   "metadata": {},
   "source": [
    "## Problem 5 (contrasts)\n",
    "#### Continuation of Problem 4\n",
    "\n",
    "Load the data as in Question 4 (removing duplicates, leaving only samples from winaries of at least 3 samples of variety ``Cabernet Sauvignon``)\n",
    "\n",
    "Using a single t-test, test the assumption that cabernets in the Golan area wineries: ``Bazelet HaGolan``, ``Golan Heights Winery`` have the same quality as the average of Judean Hills area wineries: ``Katlav``, ``Psagot``, ``Shiloh Winery``, ``Titora``, ``Yatir`` (the goal here is to construct a \"contrast\", hence you should take an arithmetic average of group averages. Recall that the global vriance estimator is obtained using all data points, not just those involved in the contrast).\n",
    "\n",
    "Note: you can ignore the ``province`` filed in the data becasue it contains inaccurate information.\n",
    "\n"
   ]
  },
  {
   "cell_type": "code",
   "execution_count": 167,
   "id": "3fb2279a",
   "metadata": {},
   "outputs": [],
   "source": [
    "import pandas as pd\n",
    "wine_df = pd.read_csv(\"data/winemag-data_first150k.csv\", index_col=0)\n",
    "variety = 'Cabernet Sauvignon'\n",
    "min_per_group = 1\n",
    "israeli_wines = wine_df[(wine_df.country == 'Israel') & (wine_df.variety == variety)]\\\n",
    "                .filter(['country', 'description','designation', 'points',\n",
    "                         'price','region_1', 'region_2', 'variety', 'winery'])\\\n",
    "                .replace('Gamla', 'Golan Heights Winery')\\\n",
    "                .drop_duplicates(keep='first')\\\n",
    "                .groupby('winery')\\\n",
    "                .filter(lambda x : len(x) >= min_per_group)\n"
   ]
  },
  {
   "cell_type": "code",
   "execution_count": 190,
   "id": "8d7a055c",
   "metadata": {},
   "outputs": [
    {
     "name": "stdout",
     "output_type": "stream",
     "text": [
      "t statistic value: -1.817\n",
      "p-value: 0.045\n"
     ]
    }
   ],
   "source": [
    "golan_wineries = ['Bazelet HaGolan', 'Golan Heights Winery']\n",
    "judean_wineries = ['Katlav', 'Psagot', 'Shiloh Winery', 'Titora', 'Yatir']\n",
    "\n",
    "contrast_wines = israeli_wines[israeli_wines.winery.isin(golan_wineries + judean_wineries)]\n",
    "\n",
    "n = contrast_wines.shape[0]\n",
    "k = len(golan_wineries + judean_wineries)\n",
    "\n",
    "y_bar = contrast_wines.groupby('winery').points.mean()\n",
    "counts = contrast_wines.groupby('winery').points.count()\n",
    "\n",
    "ss_wit = contrast_wines.groupby('winery').points.agg(lambda x: np.sum((x - np.mean(x)) ** 2)).sum()\n",
    "s2 = ss_wit / (n - k)\n",
    "\n",
    "counts_golan = counts[golan_wineries]\n",
    "counts_judean = counts[judean_wineries]\n",
    "\n",
    "y_bar_golan = y_bar[golan_wineries].mean()\n",
    "y_bar_judean = y_bar[judean_wineries].mean()\n",
    "\n",
    "p = (y_bar_judean - y_bar_golan) / np.sqrt(\n",
    "        s2 * (\n",
    "        (1/len(counts_golan)**2) * (1/counts_golan).sum() + \n",
    "        (1/len(counts_judean)**2) * (1/counts_judean).sum())\n",
    "    )\n",
    "\n",
    "print(f\"t statistic value: {p:.3f}\")\n",
    "\n",
    "from scipy.stats import t\n",
    "# p-value\n",
    "p_value = t.cdf(p, df=n-k)\n",
    "print(f\"p-value: {p_value:.3f}\")\n"
   ]
  },
  {
   "attachments": {},
   "cell_type": "markdown",
   "id": "38bc866b",
   "metadata": {},
   "source": [
    "We see that the Judean Wineries produce better quality wine than the Golan ones, with a p-value of 0.045, which means we reject $H_0$: the area proprety has no effect on the quality of the wine, with a threshold of 0.05"
   ]
  }
 ],
 "metadata": {
  "kernelspec": {
   "display_name": "Python 3 (ipykernel)",
   "language": "python",
   "name": "python3"
  },
  "language_info": {
   "codemirror_mode": {
    "name": "ipython",
    "version": 3
   },
   "file_extension": ".py",
   "mimetype": "text/x-python",
   "name": "python",
   "nbconvert_exporter": "python",
   "pygments_lexer": "ipython3",
   "version": "3.10.6"
  }
 },
 "nbformat": 4,
 "nbformat_minor": 5
}
